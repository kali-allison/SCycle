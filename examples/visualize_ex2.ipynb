{
 "cells": [
  {
   "cell_type": "code",
   "execution_count": null,
   "metadata": {},
   "outputs": [],
   "source": [
    "# visualize the results of examples/ex2.in: a 2D quasidynamic model with linear elasticity\n",
    "\n",
    "%matplotlib inline\n",
    "%load_ext autoreload\n",
    "%autoreload 2\n",
    "import matplotlib\n",
    "import matplotlib.pyplot as plt\n",
    "import numpy as np\n",
    "import h5py\n",
    "\n",
    "import loadFuncs\n",
    "\n",
    "from IPython.display import set_matplotlib_formats"
   ]
  },
  {
   "cell_type": "code",
   "execution_count": null,
   "metadata": {},
   "outputs": [],
   "source": [
    "# load simulation data\n",
    "\n",
    "# full or local path to data\n",
    "sourceDir = '/Users/kallison/scycle/data'\n",
    "\n",
    "\n",
    "jobName = 'ex2'\n",
    "filePath = \"%s/%s\" %(sourceDir,jobName)\n",
    "d = loadFuncs.loadContext(filePath) # load mesh, material parameters, and SCycle parameters\n",
    "d = loadFuncs.load_1D(filePath,indict=d, Nz=d['domain']['Nz'],Ny=d['domain']['Ny']) # load fields of size Nz or Ny\n",
    "d = loadFuncs.load_2D(filePath,indict=d, Nz=d['domain']['Nz'],Ny=d['domain']['Ny']) # load fields of size Ny*Nz"
   ]
  },
  {
   "cell_type": "code",
   "execution_count": null,
   "metadata": {},
   "outputs": [],
   "source": [
    "# plot rate-and-state frictional parameters\n",
    "\n",
    "# parameters a and b\n",
    "plt.subplot(1,2,1)\n",
    "plt.plot(d['fault']['a'],-d['domain']['z'][0,:],'r-',label='a')\n",
    "plt.plot(d['fault']['b'],-d['domain']['z'][0,:],'b-',label='b')\n",
    "plt.plot(d['fault']['a'] - d['fault']['b'],-d['domain']['z'][0,:],'k-',label='a - b')\n",
    "plt.ylabel('depth (km)')\n",
    "plt.xlabel('a, b, a-b')\n",
    "plt.title('fric. params')\n",
    "plt.legend()\n",
    "\n",
    "# normal stress\n",
    "plt.subplot(1,2,2)\n",
    "plt.plot(d['fault']['sNEff'],-d['domain']['z'][0,:],'-')\n",
    "plt.ylabel('depth (km)')\n",
    "plt.xlabel('stress (MPa)')\n",
    "plt.title('normal stress')\n",
    "plt.show()"
   ]
  },
  {
   "cell_type": "code",
   "execution_count": null,
   "metadata": {},
   "outputs": [],
   "source": [
    "# plot initial and final conditions\n",
    "\n",
    "# frictional strength of fault\n",
    "plt.subplot(1,2,1)\n",
    "plt.plot(d['fault']['strength'][:,0],-d['domain']['z'][0,:],'g-',label='initial condition')\n",
    "plt.plot(d['fault']['strength'][:,-1],-d['domain']['z'][0,:],'r--',label='final condition')\n",
    "plt.ylabel('depth (km)')\n",
    "plt.xlabel('shear stress (MPa)')\n",
    "plt.legend()\n",
    "\n",
    "# frictional strength of slip velocity\n",
    "plt.subplot(1,2,2)\n",
    "plt.semilogx(d['fault']['slipVel'][:,0],-d['domain']['z'][0,:],'g-',label='initial condition')\n",
    "plt.semilogx(d['fault']['slipVel'][:,-1],-d['domain']['z'][0,:],'r--',label='final condition')\n",
    "plt.ylabel('depth (km)')\n",
    "plt.xlabel('slip velocity (m/s)')\n",
    "plt.show()"
   ]
  },
  {
   "cell_type": "code",
   "execution_count": null,
   "metadata": {},
   "outputs": [],
   "source": [
    "# plot of slip velocity over time\n",
    "\n",
    "# generate grid\n",
    "Nt = d['fault']['strength'].shape[-1]\n",
    "X, Y = np.meshgrid(np.arange(Nt),-d['domain']['z'][0,:]);\n",
    "Time, Y = np.meshgrid(d['time']['time1D'],-d['domain']['z'][0,:]);\n",
    "\n",
    "plt.contourf(X,Y,np.log10(d['fault']['slipVel']))\n",
    "plt.ylabel('depth (km)')\n",
    "plt.xlabel('model step count')\n",
    "plt.clim(-14, 1)\n",
    "cbar = plt.colorbar();\n",
    "cbar.set_label('log V (m/s)')\n",
    "plt.title('')\n",
    "plt.show()\n",
    "\n",
    "\n",
    "plt.contourf(Time/3.1415e7,Y,np.log10(d['fault']['slipVel']))\n",
    "plt.ylabel('depth (km)')\n",
    "plt.xlabel('time (years)')\n",
    "plt.clim(-14, 1)\n",
    "cbar = plt.colorbar();\n",
    "cbar.set_label('log V (m/s)')\n",
    "plt.show()"
   ]
  },
  {
   "cell_type": "code",
   "execution_count": null,
   "metadata": {},
   "outputs": [],
   "source": []
  }
 ],
 "metadata": {
  "kernelspec": {
   "display_name": "Python 3",
   "language": "python",
   "name": "python3"
  },
  "language_info": {
   "codemirror_mode": {
    "name": "ipython",
    "version": 3
   },
   "file_extension": ".py",
   "mimetype": "text/x-python",
   "name": "python",
   "nbconvert_exporter": "python",
   "pygments_lexer": "ipython3",
   "version": "3.7.6"
  }
 },
 "nbformat": 4,
 "nbformat_minor": 4
}
