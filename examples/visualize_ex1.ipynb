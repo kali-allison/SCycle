{
 "cells": [
  {
   "cell_type": "code",
   "execution_count": null,
   "metadata": {},
   "outputs": [],
   "source": [
    "# visualize the results of examples/ex1.in: a 1D spring-slider model with linear elasticity\n",
    "\n",
    "%matplotlib inline\n",
    "%load_ext autoreload\n",
    "%autoreload 2\n",
    "import matplotlib\n",
    "import matplotlib.pyplot as plt\n",
    "import numpy as np\n",
    "import h5py\n",
    "\n",
    "import loadFuncs\n",
    "\n",
    "from IPython.display import set_matplotlib_formats"
   ]
  },
  {
   "cell_type": "code",
   "execution_count": null,
   "metadata": {},
   "outputs": [],
   "source": [
    "# load simulation data\n",
    "\n",
    "# full or local path to data\n",
    "sourceDir = '/Users/kallison/scycle/data'\n",
    "\n",
    "\n",
    "jobName = 'ex1'\n",
    "filePath = \"%s/%s\" %(sourceDir,jobName)\n",
    "d = loadFuncs.loadContext(filePath) # load mesh, material parameters, and SCycle parameters\n",
    "d = loadFuncs.load_1D(filePath,indict=d, Nz=d['domain']['Nz'],Ny=d['domain']['Ny']) # load fields of size Nz (=1 in this example) or Ny\n"
   ]
  },
  {
   "cell_type": "code",
   "execution_count": null,
   "metadata": {},
   "outputs": [],
   "source": [
    "# look at fields available for graphing\n",
    "print(d.keys())\n",
    "print(d['fault'].keys())\n",
    "\n",
    "# view number of time steps in simulation results\n",
    "print(d['time']['time1D'].shape)"
   ]
  },
  {
   "cell_type": "code",
   "execution_count": null,
   "metadata": {},
   "outputs": [],
   "source": [
    "# make plots of 1D data vs time\n",
    "\n",
    "# frictional strength of fault\n",
    "plt.plot(d['time']['time1D'],d['fault']['strength'],'.-')\n",
    "plt.xlabel('time (s)')\n",
    "plt.ylabel('shear stress (MPa)')\n",
    "plt.show()\n",
    "\n",
    "# slip velocity\n",
    "plt.semilogy(d['time']['time1D'],d['fault']['slipVel'],'.-')\n",
    "plt.xlabel('time (s)')\n",
    "plt.ylabel('slip velocity (m/s)')\n",
    "plt.show()\n",
    "\n",
    "# state variable\n",
    "plt.plot(d['time']['time1D'],d['fault']['psi'],'.-')\n",
    "plt.xlabel('time (s)')\n",
    "plt.ylabel('state variable')\n",
    "plt.show()"
   ]
  },
  {
   "cell_type": "code",
   "execution_count": null,
   "metadata": {},
   "outputs": [],
   "source": [
    "# make plots of 1D data vs model step count\n",
    "\n",
    "# frictional strength of fault\n",
    "plt.plot(d['fault']['strength'],'.-')\n",
    "plt.xlabel('step count')\n",
    "plt.ylabel('shear stress (MPa)')\n",
    "plt.show()\n",
    "\n",
    "# slip velocity\n",
    "plt.semilogy(d['fault']['slipVel'],'.-')\n",
    "plt.ylabel('slip velocity (m/s)')\n",
    "plt.xlabel('step count')\n",
    "plt.show()\n",
    "\n",
    "# state variable\n",
    "plt.plot(d['fault']['psi'],'.-')\n",
    "plt.ylabel('state variable')\n",
    "plt.show()"
   ]
  },
  {
   "cell_type": "code",
   "execution_count": null,
   "metadata": {},
   "outputs": [],
   "source": []
  }
 ],
 "metadata": {
  "kernelspec": {
   "display_name": "Python 3",
   "language": "python",
   "name": "python3"
  },
  "language_info": {
   "codemirror_mode": {
    "name": "ipython",
    "version": 3
   },
   "file_extension": ".py",
   "mimetype": "text/x-python",
   "name": "python",
   "nbconvert_exporter": "python",
   "pygments_lexer": "ipython3",
   "version": "3.7.6"
  }
 },
 "nbformat": 4,
 "nbformat_minor": 4
}
